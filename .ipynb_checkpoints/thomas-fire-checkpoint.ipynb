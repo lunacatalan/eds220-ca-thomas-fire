{
 "cells": [
  {
   "cell_type": "markdown",
   "id": "e7d86595-8bf1-4c4c-9b63-8c52f2b6eaaa",
   "metadata": {},
   "source": [
    "# Thomas Fire\n",
    "\n",
    "Author: Luna Herschenfeld-Catalan\n",
    "\n",
    "Repository: https://github.com/lunacatalan/eds220-ca-thomas-fire\n",
    "\n",
    "## About\n",
    "\n",
    "In this notebook I will investigate the Thomas Fire that occured in California in 2017. I will create a time series graph to visualize the impact of the fire on the air quality index (AQI) of Santa Barbara County, and a false color image to understand the extent of the fire. \n",
    "\n",
    "## Highlights\n",
    "\n",
    "## Data Information\n",
    "\n",
    "**1. **\n",
    "\n",
    "**2. **\n",
    "\n",
    "## Final Outputs"
   ]
  }
 ],
 "metadata": {
  "kernelspec": {
   "display_name": "Anaconda 3 (Base)",
   "language": "python",
   "name": "base"
  },
  "language_info": {
   "codemirror_mode": {
    "name": "ipython",
    "version": 3
   },
   "file_extension": ".py",
   "mimetype": "text/x-python",
   "name": "python",
   "nbconvert_exporter": "python",
   "pygments_lexer": "ipython3",
   "version": "3.9.13"
  }
 },
 "nbformat": 4,
 "nbformat_minor": 5
}
